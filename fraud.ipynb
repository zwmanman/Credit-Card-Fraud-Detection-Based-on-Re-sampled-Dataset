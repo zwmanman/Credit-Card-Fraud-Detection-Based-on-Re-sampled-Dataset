{
 "cells": [
  {
   "cell_type": "code",
   "execution_count": 1,
   "metadata": {
    "collapsed": false
   },
   "outputs": [],
   "source": [
    "import numpy as np\n",
    "import pandas as pd\n",
    "import sklearn\n",
    "from sklearn.ensemble import RandomForestClassifier\n",
    "from sklearn.metrics import classification_report\n",
    "import matplotlib.pyplot as plt"
   ]
  },
  {
   "cell_type": "code",
   "execution_count": 2,
   "metadata": {
    "collapsed": false
   },
   "outputs": [
    {
     "name": "stderr",
     "output_type": "stream",
     "text": [
      "C:\\Users\\zweiv_000\\Anaconda\\Lib\\site-packages\\sklearn\\cross_validation.py:44: DeprecationWarning: This module was deprecated in version 0.18 in favor of the model_selection module into which all the refactored classes and functions are moved. Also note that the interface of the new CV iterators are different from that of this module. This module will be removed in 0.20.\n",
      "  \"This module will be removed in 0.20.\", DeprecationWarning)\n"
     ]
    }
   ],
   "source": [
    "from imblearn.under_sampling import ClusterCentroids #undersampling\n",
    "from imblearn.over_sampling import SMOTE  #oversampling\n",
    "from imblearn.combine import SMOTEENN"
   ]
  },
  {
   "cell_type": "code",
   "execution_count": 3,
   "metadata": {
    "collapsed": false
   },
   "outputs": [],
   "source": [
    "%matplotlib inline\n",
    "df = pd.read_csv(\"D:\\\\Study\\\\Kaggle\\\\Creditcard\\\\creditcardfraud\\\\creditcard.csv\")"
   ]
  },
  {
   "cell_type": "code",
   "execution_count": 4,
   "metadata": {
    "collapsed": false
   },
   "outputs": [
    {
     "data": {
      "text/html": [
       "<div>\n",
       "<table border=\"1\" class=\"dataframe\">\n",
       "  <thead>\n",
       "    <tr style=\"text-align: right;\">\n",
       "      <th></th>\n",
       "      <th>Time</th>\n",
       "      <th>V1</th>\n",
       "      <th>V2</th>\n",
       "      <th>V3</th>\n",
       "      <th>V4</th>\n",
       "      <th>V5</th>\n",
       "      <th>V6</th>\n",
       "      <th>V7</th>\n",
       "      <th>V8</th>\n",
       "      <th>V9</th>\n",
       "      <th>...</th>\n",
       "      <th>V21</th>\n",
       "      <th>V22</th>\n",
       "      <th>V23</th>\n",
       "      <th>V24</th>\n",
       "      <th>V25</th>\n",
       "      <th>V26</th>\n",
       "      <th>V27</th>\n",
       "      <th>V28</th>\n",
       "      <th>Amount</th>\n",
       "      <th>Class</th>\n",
       "    </tr>\n",
       "  </thead>\n",
       "  <tbody>\n",
       "    <tr>\n",
       "      <th>count</th>\n",
       "      <td>284807.000000</td>\n",
       "      <td>2.848070e+05</td>\n",
       "      <td>2.848070e+05</td>\n",
       "      <td>2.848070e+05</td>\n",
       "      <td>2.848070e+05</td>\n",
       "      <td>2.848070e+05</td>\n",
       "      <td>2.848070e+05</td>\n",
       "      <td>2.848070e+05</td>\n",
       "      <td>2.848070e+05</td>\n",
       "      <td>2.848070e+05</td>\n",
       "      <td>...</td>\n",
       "      <td>2.848070e+05</td>\n",
       "      <td>2.848070e+05</td>\n",
       "      <td>2.848070e+05</td>\n",
       "      <td>2.848070e+05</td>\n",
       "      <td>2.848070e+05</td>\n",
       "      <td>2.848070e+05</td>\n",
       "      <td>2.848070e+05</td>\n",
       "      <td>2.848070e+05</td>\n",
       "      <td>284807.000000</td>\n",
       "      <td>284807.000000</td>\n",
       "    </tr>\n",
       "    <tr>\n",
       "      <th>mean</th>\n",
       "      <td>94813.859575</td>\n",
       "      <td>3.919560e-15</td>\n",
       "      <td>5.688174e-16</td>\n",
       "      <td>-8.769071e-15</td>\n",
       "      <td>2.782312e-15</td>\n",
       "      <td>-1.552563e-15</td>\n",
       "      <td>2.010663e-15</td>\n",
       "      <td>-1.694249e-15</td>\n",
       "      <td>-1.927028e-16</td>\n",
       "      <td>-3.137024e-15</td>\n",
       "      <td>...</td>\n",
       "      <td>1.537294e-16</td>\n",
       "      <td>7.959909e-16</td>\n",
       "      <td>5.367590e-16</td>\n",
       "      <td>4.458112e-15</td>\n",
       "      <td>1.453003e-15</td>\n",
       "      <td>1.699104e-15</td>\n",
       "      <td>-3.660161e-16</td>\n",
       "      <td>-1.206049e-16</td>\n",
       "      <td>88.349619</td>\n",
       "      <td>0.001727</td>\n",
       "    </tr>\n",
       "    <tr>\n",
       "      <th>std</th>\n",
       "      <td>47488.145955</td>\n",
       "      <td>1.958696e+00</td>\n",
       "      <td>1.651309e+00</td>\n",
       "      <td>1.516255e+00</td>\n",
       "      <td>1.415869e+00</td>\n",
       "      <td>1.380247e+00</td>\n",
       "      <td>1.332271e+00</td>\n",
       "      <td>1.237094e+00</td>\n",
       "      <td>1.194353e+00</td>\n",
       "      <td>1.098632e+00</td>\n",
       "      <td>...</td>\n",
       "      <td>7.345240e-01</td>\n",
       "      <td>7.257016e-01</td>\n",
       "      <td>6.244603e-01</td>\n",
       "      <td>6.056471e-01</td>\n",
       "      <td>5.212781e-01</td>\n",
       "      <td>4.822270e-01</td>\n",
       "      <td>4.036325e-01</td>\n",
       "      <td>3.300833e-01</td>\n",
       "      <td>250.120109</td>\n",
       "      <td>0.041527</td>\n",
       "    </tr>\n",
       "    <tr>\n",
       "      <th>min</th>\n",
       "      <td>0.000000</td>\n",
       "      <td>-5.640751e+01</td>\n",
       "      <td>-7.271573e+01</td>\n",
       "      <td>-4.832559e+01</td>\n",
       "      <td>-5.683171e+00</td>\n",
       "      <td>-1.137433e+02</td>\n",
       "      <td>-2.616051e+01</td>\n",
       "      <td>-4.355724e+01</td>\n",
       "      <td>-7.321672e+01</td>\n",
       "      <td>-1.343407e+01</td>\n",
       "      <td>...</td>\n",
       "      <td>-3.483038e+01</td>\n",
       "      <td>-1.093314e+01</td>\n",
       "      <td>-4.480774e+01</td>\n",
       "      <td>-2.836627e+00</td>\n",
       "      <td>-1.029540e+01</td>\n",
       "      <td>-2.604551e+00</td>\n",
       "      <td>-2.256568e+01</td>\n",
       "      <td>-1.543008e+01</td>\n",
       "      <td>0.000000</td>\n",
       "      <td>0.000000</td>\n",
       "    </tr>\n",
       "    <tr>\n",
       "      <th>25%</th>\n",
       "      <td>54201.500000</td>\n",
       "      <td>-9.203734e-01</td>\n",
       "      <td>-5.985499e-01</td>\n",
       "      <td>-8.903648e-01</td>\n",
       "      <td>-8.486401e-01</td>\n",
       "      <td>-6.915971e-01</td>\n",
       "      <td>-7.682956e-01</td>\n",
       "      <td>-5.540759e-01</td>\n",
       "      <td>-2.086297e-01</td>\n",
       "      <td>-6.430976e-01</td>\n",
       "      <td>...</td>\n",
       "      <td>-2.283949e-01</td>\n",
       "      <td>-5.423504e-01</td>\n",
       "      <td>-1.618463e-01</td>\n",
       "      <td>-3.545861e-01</td>\n",
       "      <td>-3.171451e-01</td>\n",
       "      <td>-3.269839e-01</td>\n",
       "      <td>-7.083953e-02</td>\n",
       "      <td>-5.295979e-02</td>\n",
       "      <td>5.600000</td>\n",
       "      <td>0.000000</td>\n",
       "    </tr>\n",
       "    <tr>\n",
       "      <th>50%</th>\n",
       "      <td>84692.000000</td>\n",
       "      <td>1.810880e-02</td>\n",
       "      <td>6.548556e-02</td>\n",
       "      <td>1.798463e-01</td>\n",
       "      <td>-1.984653e-02</td>\n",
       "      <td>-5.433583e-02</td>\n",
       "      <td>-2.741871e-01</td>\n",
       "      <td>4.010308e-02</td>\n",
       "      <td>2.235804e-02</td>\n",
       "      <td>-5.142873e-02</td>\n",
       "      <td>...</td>\n",
       "      <td>-2.945017e-02</td>\n",
       "      <td>6.781943e-03</td>\n",
       "      <td>-1.119293e-02</td>\n",
       "      <td>4.097606e-02</td>\n",
       "      <td>1.659350e-02</td>\n",
       "      <td>-5.213911e-02</td>\n",
       "      <td>1.342146e-03</td>\n",
       "      <td>1.124383e-02</td>\n",
       "      <td>22.000000</td>\n",
       "      <td>0.000000</td>\n",
       "    </tr>\n",
       "    <tr>\n",
       "      <th>75%</th>\n",
       "      <td>139320.500000</td>\n",
       "      <td>1.315642e+00</td>\n",
       "      <td>8.037239e-01</td>\n",
       "      <td>1.027196e+00</td>\n",
       "      <td>7.433413e-01</td>\n",
       "      <td>6.119264e-01</td>\n",
       "      <td>3.985649e-01</td>\n",
       "      <td>5.704361e-01</td>\n",
       "      <td>3.273459e-01</td>\n",
       "      <td>5.971390e-01</td>\n",
       "      <td>...</td>\n",
       "      <td>1.863772e-01</td>\n",
       "      <td>5.285536e-01</td>\n",
       "      <td>1.476421e-01</td>\n",
       "      <td>4.395266e-01</td>\n",
       "      <td>3.507156e-01</td>\n",
       "      <td>2.409522e-01</td>\n",
       "      <td>9.104512e-02</td>\n",
       "      <td>7.827995e-02</td>\n",
       "      <td>77.165000</td>\n",
       "      <td>0.000000</td>\n",
       "    </tr>\n",
       "    <tr>\n",
       "      <th>max</th>\n",
       "      <td>172792.000000</td>\n",
       "      <td>2.454930e+00</td>\n",
       "      <td>2.205773e+01</td>\n",
       "      <td>9.382558e+00</td>\n",
       "      <td>1.687534e+01</td>\n",
       "      <td>3.480167e+01</td>\n",
       "      <td>7.330163e+01</td>\n",
       "      <td>1.205895e+02</td>\n",
       "      <td>2.000721e+01</td>\n",
       "      <td>1.559499e+01</td>\n",
       "      <td>...</td>\n",
       "      <td>2.720284e+01</td>\n",
       "      <td>1.050309e+01</td>\n",
       "      <td>2.252841e+01</td>\n",
       "      <td>4.584549e+00</td>\n",
       "      <td>7.519589e+00</td>\n",
       "      <td>3.517346e+00</td>\n",
       "      <td>3.161220e+01</td>\n",
       "      <td>3.384781e+01</td>\n",
       "      <td>25691.160000</td>\n",
       "      <td>1.000000</td>\n",
       "    </tr>\n",
       "  </tbody>\n",
       "</table>\n",
       "<p>8 rows × 31 columns</p>\n",
       "</div>"
      ],
      "text/plain": [
       "                Time            V1            V2            V3            V4  \\\n",
       "count  284807.000000  2.848070e+05  2.848070e+05  2.848070e+05  2.848070e+05   \n",
       "mean    94813.859575  3.919560e-15  5.688174e-16 -8.769071e-15  2.782312e-15   \n",
       "std     47488.145955  1.958696e+00  1.651309e+00  1.516255e+00  1.415869e+00   \n",
       "min         0.000000 -5.640751e+01 -7.271573e+01 -4.832559e+01 -5.683171e+00   \n",
       "25%     54201.500000 -9.203734e-01 -5.985499e-01 -8.903648e-01 -8.486401e-01   \n",
       "50%     84692.000000  1.810880e-02  6.548556e-02  1.798463e-01 -1.984653e-02   \n",
       "75%    139320.500000  1.315642e+00  8.037239e-01  1.027196e+00  7.433413e-01   \n",
       "max    172792.000000  2.454930e+00  2.205773e+01  9.382558e+00  1.687534e+01   \n",
       "\n",
       "                 V5            V6            V7            V8            V9  \\\n",
       "count  2.848070e+05  2.848070e+05  2.848070e+05  2.848070e+05  2.848070e+05   \n",
       "mean  -1.552563e-15  2.010663e-15 -1.694249e-15 -1.927028e-16 -3.137024e-15   \n",
       "std    1.380247e+00  1.332271e+00  1.237094e+00  1.194353e+00  1.098632e+00   \n",
       "min   -1.137433e+02 -2.616051e+01 -4.355724e+01 -7.321672e+01 -1.343407e+01   \n",
       "25%   -6.915971e-01 -7.682956e-01 -5.540759e-01 -2.086297e-01 -6.430976e-01   \n",
       "50%   -5.433583e-02 -2.741871e-01  4.010308e-02  2.235804e-02 -5.142873e-02   \n",
       "75%    6.119264e-01  3.985649e-01  5.704361e-01  3.273459e-01  5.971390e-01   \n",
       "max    3.480167e+01  7.330163e+01  1.205895e+02  2.000721e+01  1.559499e+01   \n",
       "\n",
       "           ...                 V21           V22           V23           V24  \\\n",
       "count      ...        2.848070e+05  2.848070e+05  2.848070e+05  2.848070e+05   \n",
       "mean       ...        1.537294e-16  7.959909e-16  5.367590e-16  4.458112e-15   \n",
       "std        ...        7.345240e-01  7.257016e-01  6.244603e-01  6.056471e-01   \n",
       "min        ...       -3.483038e+01 -1.093314e+01 -4.480774e+01 -2.836627e+00   \n",
       "25%        ...       -2.283949e-01 -5.423504e-01 -1.618463e-01 -3.545861e-01   \n",
       "50%        ...       -2.945017e-02  6.781943e-03 -1.119293e-02  4.097606e-02   \n",
       "75%        ...        1.863772e-01  5.285536e-01  1.476421e-01  4.395266e-01   \n",
       "max        ...        2.720284e+01  1.050309e+01  2.252841e+01  4.584549e+00   \n",
       "\n",
       "                V25           V26           V27           V28         Amount  \\\n",
       "count  2.848070e+05  2.848070e+05  2.848070e+05  2.848070e+05  284807.000000   \n",
       "mean   1.453003e-15  1.699104e-15 -3.660161e-16 -1.206049e-16      88.349619   \n",
       "std    5.212781e-01  4.822270e-01  4.036325e-01  3.300833e-01     250.120109   \n",
       "min   -1.029540e+01 -2.604551e+00 -2.256568e+01 -1.543008e+01       0.000000   \n",
       "25%   -3.171451e-01 -3.269839e-01 -7.083953e-02 -5.295979e-02       5.600000   \n",
       "50%    1.659350e-02 -5.213911e-02  1.342146e-03  1.124383e-02      22.000000   \n",
       "75%    3.507156e-01  2.409522e-01  9.104512e-02  7.827995e-02      77.165000   \n",
       "max    7.519589e+00  3.517346e+00  3.161220e+01  3.384781e+01   25691.160000   \n",
       "\n",
       "               Class  \n",
       "count  284807.000000  \n",
       "mean        0.001727  \n",
       "std         0.041527  \n",
       "min         0.000000  \n",
       "25%         0.000000  \n",
       "50%         0.000000  \n",
       "75%         0.000000  \n",
       "max         1.000000  \n",
       "\n",
       "[8 rows x 31 columns]"
      ]
     },
     "execution_count": 4,
     "metadata": {},
     "output_type": "execute_result"
    }
   ],
   "source": [
    "df.describe()"
   ]
  },
  {
   "cell_type": "code",
   "execution_count": 5,
   "metadata": {
    "collapsed": false
   },
   "outputs": [
    {
     "name": "stdout",
     "output_type": "stream",
     "text": [
      "0    284315\n",
      "1       492\n",
      "dtype: int64\n"
     ]
    }
   ],
   "source": [
    "print(df['Class'].value_counts())"
   ]
  },
  {
   "cell_type": "code",
   "execution_count": 6,
   "metadata": {
    "collapsed": true
   },
   "outputs": [],
   "source": [
    "from sklearn.cross_validation import train_test_split"
   ]
  },
  {
   "cell_type": "code",
   "execution_count": 7,
   "metadata": {
    "collapsed": true
   },
   "outputs": [],
   "source": [
    "train, test = train_test_split(df, train_size = 0.8)"
   ]
  },
  {
   "cell_type": "code",
   "execution_count": 8,
   "metadata": {
    "collapsed": false
   },
   "outputs": [
    {
     "data": {
      "text/html": [
       "<div>\n",
       "<table border=\"1\" class=\"dataframe\">\n",
       "  <thead>\n",
       "    <tr style=\"text-align: right;\">\n",
       "      <th></th>\n",
       "      <th>Time</th>\n",
       "      <th>V1</th>\n",
       "      <th>V2</th>\n",
       "      <th>V3</th>\n",
       "      <th>V4</th>\n",
       "      <th>V5</th>\n",
       "      <th>V6</th>\n",
       "      <th>V7</th>\n",
       "      <th>V8</th>\n",
       "      <th>V9</th>\n",
       "      <th>...</th>\n",
       "      <th>V21</th>\n",
       "      <th>V22</th>\n",
       "      <th>V23</th>\n",
       "      <th>V24</th>\n",
       "      <th>V25</th>\n",
       "      <th>V26</th>\n",
       "      <th>V27</th>\n",
       "      <th>V28</th>\n",
       "      <th>Amount</th>\n",
       "      <th>Class</th>\n",
       "    </tr>\n",
       "  </thead>\n",
       "  <tbody>\n",
       "    <tr>\n",
       "      <th>232034</th>\n",
       "      <td>147018</td>\n",
       "      <td>2.061914</td>\n",
       "      <td>-0.930685</td>\n",
       "      <td>-1.332030</td>\n",
       "      <td>-0.836660</td>\n",
       "      <td>-0.674025</td>\n",
       "      <td>-1.131098</td>\n",
       "      <td>-0.274863</td>\n",
       "      <td>-0.250526</td>\n",
       "      <td>-0.628454</td>\n",
       "      <td>...</td>\n",
       "      <td>0.109007</td>\n",
       "      <td>0.154640</td>\n",
       "      <td>0.151933</td>\n",
       "      <td>0.068731</td>\n",
       "      <td>-0.102820</td>\n",
       "      <td>-0.307580</td>\n",
       "      <td>-0.059521</td>\n",
       "      <td>-0.064368</td>\n",
       "      <td>68.23</td>\n",
       "      <td>0</td>\n",
       "    </tr>\n",
       "    <tr>\n",
       "      <th>99435</th>\n",
       "      <td>67117</td>\n",
       "      <td>-1.208470</td>\n",
       "      <td>0.951165</td>\n",
       "      <td>-0.244983</td>\n",
       "      <td>0.223672</td>\n",
       "      <td>2.079472</td>\n",
       "      <td>3.976262</td>\n",
       "      <td>-0.061037</td>\n",
       "      <td>1.247319</td>\n",
       "      <td>-0.716606</td>\n",
       "      <td>...</td>\n",
       "      <td>-0.080990</td>\n",
       "      <td>-0.355521</td>\n",
       "      <td>-0.454210</td>\n",
       "      <td>1.035642</td>\n",
       "      <td>0.654601</td>\n",
       "      <td>-0.168048</td>\n",
       "      <td>-0.204980</td>\n",
       "      <td>-0.094336</td>\n",
       "      <td>64.54</td>\n",
       "      <td>0</td>\n",
       "    </tr>\n",
       "    <tr>\n",
       "      <th>73849</th>\n",
       "      <td>55307</td>\n",
       "      <td>1.154786</td>\n",
       "      <td>0.182814</td>\n",
       "      <td>0.361292</td>\n",
       "      <td>0.585828</td>\n",
       "      <td>-0.321323</td>\n",
       "      <td>-0.419634</td>\n",
       "      <td>-0.161868</td>\n",
       "      <td>0.129509</td>\n",
       "      <td>-0.083158</td>\n",
       "      <td>...</td>\n",
       "      <td>-0.207098</td>\n",
       "      <td>-0.653243</td>\n",
       "      <td>0.184159</td>\n",
       "      <td>0.154760</td>\n",
       "      <td>0.049876</td>\n",
       "      <td>0.097625</td>\n",
       "      <td>-0.017159</td>\n",
       "      <td>0.017032</td>\n",
       "      <td>1.98</td>\n",
       "      <td>0</td>\n",
       "    </tr>\n",
       "    <tr>\n",
       "      <th>248956</th>\n",
       "      <td>154172</td>\n",
       "      <td>0.439804</td>\n",
       "      <td>1.343752</td>\n",
       "      <td>-1.364688</td>\n",
       "      <td>1.309440</td>\n",
       "      <td>0.340152</td>\n",
       "      <td>-0.412269</td>\n",
       "      <td>0.200711</td>\n",
       "      <td>0.159247</td>\n",
       "      <td>-0.200281</td>\n",
       "      <td>...</td>\n",
       "      <td>-0.106938</td>\n",
       "      <td>-0.260220</td>\n",
       "      <td>0.356932</td>\n",
       "      <td>0.504631</td>\n",
       "      <td>-1.333203</td>\n",
       "      <td>-0.386510</td>\n",
       "      <td>-0.186872</td>\n",
       "      <td>0.049028</td>\n",
       "      <td>9.99</td>\n",
       "      <td>0</td>\n",
       "    </tr>\n",
       "    <tr>\n",
       "      <th>214804</th>\n",
       "      <td>139828</td>\n",
       "      <td>2.101790</td>\n",
       "      <td>0.620181</td>\n",
       "      <td>-2.669859</td>\n",
       "      <td>0.595129</td>\n",
       "      <td>0.956859</td>\n",
       "      <td>-1.365729</td>\n",
       "      <td>0.407762</td>\n",
       "      <td>-0.403228</td>\n",
       "      <td>0.453760</td>\n",
       "      <td>...</td>\n",
       "      <td>0.056062</td>\n",
       "      <td>0.403919</td>\n",
       "      <td>-0.148900</td>\n",
       "      <td>-0.911090</td>\n",
       "      <td>0.382023</td>\n",
       "      <td>-0.058342</td>\n",
       "      <td>0.023708</td>\n",
       "      <td>0.001718</td>\n",
       "      <td>1.00</td>\n",
       "      <td>0</td>\n",
       "    </tr>\n",
       "  </tbody>\n",
       "</table>\n",
       "<p>5 rows × 31 columns</p>\n",
       "</div>"
      ],
      "text/plain": [
       "          Time        V1        V2        V3        V4        V5        V6  \\\n",
       "232034  147018  2.061914 -0.930685 -1.332030 -0.836660 -0.674025 -1.131098   \n",
       "99435    67117 -1.208470  0.951165 -0.244983  0.223672  2.079472  3.976262   \n",
       "73849    55307  1.154786  0.182814  0.361292  0.585828 -0.321323 -0.419634   \n",
       "248956  154172  0.439804  1.343752 -1.364688  1.309440  0.340152 -0.412269   \n",
       "214804  139828  2.101790  0.620181 -2.669859  0.595129  0.956859 -1.365729   \n",
       "\n",
       "              V7        V8        V9  ...         V21       V22       V23  \\\n",
       "232034 -0.274863 -0.250526 -0.628454  ...    0.109007  0.154640  0.151933   \n",
       "99435  -0.061037  1.247319 -0.716606  ...   -0.080990 -0.355521 -0.454210   \n",
       "73849  -0.161868  0.129509 -0.083158  ...   -0.207098 -0.653243  0.184159   \n",
       "248956  0.200711  0.159247 -0.200281  ...   -0.106938 -0.260220  0.356932   \n",
       "214804  0.407762 -0.403228  0.453760  ...    0.056062  0.403919 -0.148900   \n",
       "\n",
       "             V24       V25       V26       V27       V28  Amount  Class  \n",
       "232034  0.068731 -0.102820 -0.307580 -0.059521 -0.064368   68.23      0  \n",
       "99435   1.035642  0.654601 -0.168048 -0.204980 -0.094336   64.54      0  \n",
       "73849   0.154760  0.049876  0.097625 -0.017159  0.017032    1.98      0  \n",
       "248956  0.504631 -1.333203 -0.386510 -0.186872  0.049028    9.99      0  \n",
       "214804 -0.911090  0.382023 -0.058342  0.023708  0.001718    1.00      0  \n",
       "\n",
       "[5 rows x 31 columns]"
      ]
     },
     "execution_count": 8,
     "metadata": {},
     "output_type": "execute_result"
    }
   ],
   "source": [
    "train.head()"
   ]
  },
  {
   "cell_type": "code",
   "execution_count": 11,
   "metadata": {
    "collapsed": false,
    "scrolled": true
   },
   "outputs": [],
   "source": [
    "train_label = train[\"Class\"]\n",
    "train_label\n",
    "train_feature = train.drop(\"Class\", axis = 1)"
   ]
  },
  {
   "cell_type": "code",
   "execution_count": 12,
   "metadata": {
    "collapsed": false
   },
   "outputs": [
    {
     "data": {
      "text/html": [
       "<div>\n",
       "<table border=\"1\" class=\"dataframe\">\n",
       "  <thead>\n",
       "    <tr style=\"text-align: right;\">\n",
       "      <th></th>\n",
       "      <th>Time</th>\n",
       "      <th>V1</th>\n",
       "      <th>V2</th>\n",
       "      <th>V3</th>\n",
       "      <th>V4</th>\n",
       "      <th>V5</th>\n",
       "      <th>V6</th>\n",
       "      <th>V7</th>\n",
       "      <th>V8</th>\n",
       "      <th>V9</th>\n",
       "      <th>...</th>\n",
       "      <th>V20</th>\n",
       "      <th>V21</th>\n",
       "      <th>V22</th>\n",
       "      <th>V23</th>\n",
       "      <th>V24</th>\n",
       "      <th>V25</th>\n",
       "      <th>V26</th>\n",
       "      <th>V27</th>\n",
       "      <th>V28</th>\n",
       "      <th>Amount</th>\n",
       "    </tr>\n",
       "  </thead>\n",
       "  <tbody>\n",
       "    <tr>\n",
       "      <th>232034</th>\n",
       "      <td>147018</td>\n",
       "      <td>2.061914</td>\n",
       "      <td>-0.930685</td>\n",
       "      <td>-1.332030</td>\n",
       "      <td>-0.836660</td>\n",
       "      <td>-0.674025</td>\n",
       "      <td>-1.131098</td>\n",
       "      <td>-0.274863</td>\n",
       "      <td>-0.250526</td>\n",
       "      <td>-0.628454</td>\n",
       "      <td>...</td>\n",
       "      <td>0.015613</td>\n",
       "      <td>0.109007</td>\n",
       "      <td>0.154640</td>\n",
       "      <td>0.151933</td>\n",
       "      <td>0.068731</td>\n",
       "      <td>-0.102820</td>\n",
       "      <td>-0.307580</td>\n",
       "      <td>-0.059521</td>\n",
       "      <td>-0.064368</td>\n",
       "      <td>68.23</td>\n",
       "    </tr>\n",
       "    <tr>\n",
       "      <th>99435</th>\n",
       "      <td>67117</td>\n",
       "      <td>-1.208470</td>\n",
       "      <td>0.951165</td>\n",
       "      <td>-0.244983</td>\n",
       "      <td>0.223672</td>\n",
       "      <td>2.079472</td>\n",
       "      <td>3.976262</td>\n",
       "      <td>-0.061037</td>\n",
       "      <td>1.247319</td>\n",
       "      <td>-0.716606</td>\n",
       "      <td>...</td>\n",
       "      <td>-0.037298</td>\n",
       "      <td>-0.080990</td>\n",
       "      <td>-0.355521</td>\n",
       "      <td>-0.454210</td>\n",
       "      <td>1.035642</td>\n",
       "      <td>0.654601</td>\n",
       "      <td>-0.168048</td>\n",
       "      <td>-0.204980</td>\n",
       "      <td>-0.094336</td>\n",
       "      <td>64.54</td>\n",
       "    </tr>\n",
       "    <tr>\n",
       "      <th>73849</th>\n",
       "      <td>55307</td>\n",
       "      <td>1.154786</td>\n",
       "      <td>0.182814</td>\n",
       "      <td>0.361292</td>\n",
       "      <td>0.585828</td>\n",
       "      <td>-0.321323</td>\n",
       "      <td>-0.419634</td>\n",
       "      <td>-0.161868</td>\n",
       "      <td>0.129509</td>\n",
       "      <td>-0.083158</td>\n",
       "      <td>...</td>\n",
       "      <td>-0.176027</td>\n",
       "      <td>-0.207098</td>\n",
       "      <td>-0.653243</td>\n",
       "      <td>0.184159</td>\n",
       "      <td>0.154760</td>\n",
       "      <td>0.049876</td>\n",
       "      <td>0.097625</td>\n",
       "      <td>-0.017159</td>\n",
       "      <td>0.017032</td>\n",
       "      <td>1.98</td>\n",
       "    </tr>\n",
       "    <tr>\n",
       "      <th>248956</th>\n",
       "      <td>154172</td>\n",
       "      <td>0.439804</td>\n",
       "      <td>1.343752</td>\n",
       "      <td>-1.364688</td>\n",
       "      <td>1.309440</td>\n",
       "      <td>0.340152</td>\n",
       "      <td>-0.412269</td>\n",
       "      <td>0.200711</td>\n",
       "      <td>0.159247</td>\n",
       "      <td>-0.200281</td>\n",
       "      <td>...</td>\n",
       "      <td>0.049756</td>\n",
       "      <td>-0.106938</td>\n",
       "      <td>-0.260220</td>\n",
       "      <td>0.356932</td>\n",
       "      <td>0.504631</td>\n",
       "      <td>-1.333203</td>\n",
       "      <td>-0.386510</td>\n",
       "      <td>-0.186872</td>\n",
       "      <td>0.049028</td>\n",
       "      <td>9.99</td>\n",
       "    </tr>\n",
       "    <tr>\n",
       "      <th>214804</th>\n",
       "      <td>139828</td>\n",
       "      <td>2.101790</td>\n",
       "      <td>0.620181</td>\n",
       "      <td>-2.669859</td>\n",
       "      <td>0.595129</td>\n",
       "      <td>0.956859</td>\n",
       "      <td>-1.365729</td>\n",
       "      <td>0.407762</td>\n",
       "      <td>-0.403228</td>\n",
       "      <td>0.453760</td>\n",
       "      <td>...</td>\n",
       "      <td>-0.084654</td>\n",
       "      <td>0.056062</td>\n",
       "      <td>0.403919</td>\n",
       "      <td>-0.148900</td>\n",
       "      <td>-0.911090</td>\n",
       "      <td>0.382023</td>\n",
       "      <td>-0.058342</td>\n",
       "      <td>0.023708</td>\n",
       "      <td>0.001718</td>\n",
       "      <td>1.00</td>\n",
       "    </tr>\n",
       "  </tbody>\n",
       "</table>\n",
       "<p>5 rows × 30 columns</p>\n",
       "</div>"
      ],
      "text/plain": [
       "          Time        V1        V2        V3        V4        V5        V6  \\\n",
       "232034  147018  2.061914 -0.930685 -1.332030 -0.836660 -0.674025 -1.131098   \n",
       "99435    67117 -1.208470  0.951165 -0.244983  0.223672  2.079472  3.976262   \n",
       "73849    55307  1.154786  0.182814  0.361292  0.585828 -0.321323 -0.419634   \n",
       "248956  154172  0.439804  1.343752 -1.364688  1.309440  0.340152 -0.412269   \n",
       "214804  139828  2.101790  0.620181 -2.669859  0.595129  0.956859 -1.365729   \n",
       "\n",
       "              V7        V8        V9   ...         V20       V21       V22  \\\n",
       "232034 -0.274863 -0.250526 -0.628454   ...    0.015613  0.109007  0.154640   \n",
       "99435  -0.061037  1.247319 -0.716606   ...   -0.037298 -0.080990 -0.355521   \n",
       "73849  -0.161868  0.129509 -0.083158   ...   -0.176027 -0.207098 -0.653243   \n",
       "248956  0.200711  0.159247 -0.200281   ...    0.049756 -0.106938 -0.260220   \n",
       "214804  0.407762 -0.403228  0.453760   ...   -0.084654  0.056062  0.403919   \n",
       "\n",
       "             V23       V24       V25       V26       V27       V28  Amount  \n",
       "232034  0.151933  0.068731 -0.102820 -0.307580 -0.059521 -0.064368   68.23  \n",
       "99435  -0.454210  1.035642  0.654601 -0.168048 -0.204980 -0.094336   64.54  \n",
       "73849   0.184159  0.154760  0.049876  0.097625 -0.017159  0.017032    1.98  \n",
       "248956  0.356932  0.504631 -1.333203 -0.386510 -0.186872  0.049028    9.99  \n",
       "214804 -0.148900 -0.911090  0.382023 -0.058342  0.023708  0.001718    1.00  \n",
       "\n",
       "[5 rows x 30 columns]"
      ]
     },
     "execution_count": 12,
     "metadata": {},
     "output_type": "execute_result"
    }
   ],
   "source": [
    "train_feature.head()"
   ]
  },
  {
   "cell_type": "code",
   "execution_count": 13,
   "metadata": {
    "collapsed": false
   },
   "outputs": [
    {
     "name": "stdout",
     "output_type": "stream",
     "text": [
      "0    227451\n",
      "1       394\n",
      "dtype: int64\n"
     ]
    }
   ],
   "source": [
    "CC = ClusterCentroids()\n",
    "ccx, ccy = CC.fit_sample(train_feature, train_label)\n"
   ]
  },
  {
   "cell_type": "code",
   "execution_count": 16,
   "metadata": {
    "collapsed": false
   },
   "outputs": [
    {
     "name": "stdout",
     "output_type": "stream",
     "text": [
      "[[  0 394]\n",
      " [  1 394]]\n"
     ]
    }
   ],
   "source": [
    "unique, counts = np.unique(ccy, return_counts=True)\n",
    "print np.asarray((unique, counts)).T"
   ]
  },
  {
   "cell_type": "code",
   "execution_count": 25,
   "metadata": {
    "collapsed": false
   },
   "outputs": [],
   "source": [
    "test_label = test[\"Class\"]\n",
    "test_label\n",
    "test_feature = test.drop(\"Class\", axis = 1)"
   ]
  },
  {
   "cell_type": "code",
   "execution_count": 27,
   "metadata": {
    "collapsed": false
   },
   "outputs": [
    {
     "name": "stdout",
     "output_type": "stream",
     "text": [
      "             precision    recall  f1-score   support\n",
      "\n",
      "          0       0.16      1.00      0.28      9278\n",
      "          1       1.00      0.00      0.00     47684\n",
      "\n",
      "avg / total       0.86      0.16      0.05     56962\n",
      "\n"
     ]
    }
   ],
   "source": [
    "rfc = RandomForestClassifier()\n",
    "rfc.fit(ccx,ccy)\n",
    "y_cc_pred = rfc.predict(test_feature) \n",
    "\n",
    "print(classification_report(y_cc_pred,test_label))"
   ]
  },
  {
   "cell_type": "code",
   "execution_count": 32,
   "metadata": {
    "collapsed": false
   },
   "outputs": [
    {
     "data": {
      "text/plain": [
       "array([[ 9278, 47586],\n",
       "       [    0,    98]])"
      ]
     },
     "execution_count": 32,
     "metadata": {},
     "output_type": "execute_result"
    }
   ],
   "source": [
    "from sklearn.metrics import confusion_matrix\n",
    "confusion_matrix(test_label, y_cc_pred)"
   ]
  },
  {
   "cell_type": "code",
   "execution_count": 33,
   "metadata": {
    "collapsed": true
   },
   "outputs": [],
   "source": [
    "smote = SMOTE(ratio='auto', kind='regular')\n",
    "smox, smoy = smote.fit_sample(train_feature, train_label)"
   ]
  },
  {
   "cell_type": "code",
   "execution_count": 34,
   "metadata": {
    "collapsed": false
   },
   "outputs": [
    {
     "name": "stdout",
     "output_type": "stream",
     "text": [
      "[[     0 227451]\n",
      " [     1 227451]]\n"
     ]
    }
   ],
   "source": [
    "unique_smote, counts_smote = np.unique(smoy, return_counts=True)\n",
    "print np.asarray((unique_smote, counts_smote)).T"
   ]
  },
  {
   "cell_type": "code",
   "execution_count": 35,
   "metadata": {
    "collapsed": false
   },
   "outputs": [
    {
     "name": "stdout",
     "output_type": "stream",
     "text": [
      "             precision    recall  f1-score   support\n",
      "\n",
      "          0       1.00      1.00      1.00     56866\n",
      "          1       0.87      0.89      0.88        96\n",
      "\n",
      "avg / total       1.00      1.00      1.00     56962\n",
      "\n"
     ]
    }
   ],
   "source": [
    "rfc.fit(smox,smoy)\n",
    "y_smote_pred = rfc.predict(test_feature) \n",
    "print(classification_report(y_smote_pred,test_label))"
   ]
  },
  {
   "cell_type": "code",
   "execution_count": 36,
   "metadata": {
    "collapsed": false
   },
   "outputs": [
    {
     "data": {
      "text/plain": [
       "array([[56853,    11],\n",
       "       [   13,    85]])"
      ]
     },
     "execution_count": 36,
     "metadata": {},
     "output_type": "execute_result"
    }
   ],
   "source": [
    "confusion_matrix(test_label, y_smote_pred)"
   ]
  },
  {
   "cell_type": "code",
   "execution_count": 40,
   "metadata": {
    "collapsed": false
   },
   "outputs": [
    {
     "name": "stdout",
     "output_type": "stream",
     "text": [
      "[[     0 227451]\n",
      " [     1 217857]]\n"
     ]
    }
   ],
   "source": [
    "SENN = SMOTEENN(ratio = 'auto')\n",
    "ennx, enny = SENN.fit_sample(train_feature, train_label)\n",
    "unique_enny, counts_enny = np.unique(enny, return_counts=True)\n",
    "print np.asarray((unique_enny, counts_enny)).T"
   ]
  },
  {
   "cell_type": "code",
   "execution_count": 41,
   "metadata": {
    "collapsed": false
   },
   "outputs": [
    {
     "name": "stdout",
     "output_type": "stream",
     "text": [
      "             precision    recall  f1-score   support\n",
      "\n",
      "          0       1.00      1.00      1.00     56858\n",
      "          1       0.88      0.83      0.85       104\n",
      "\n",
      "avg / total       1.00      1.00      1.00     56962\n",
      "\n"
     ]
    }
   ],
   "source": [
    "rfc.fit(ennx, enny)\n",
    "y_senn_pred = rfc.predict(test_feature) \n",
    "print(classification_report(y_senn_pred,test_label))"
   ]
  },
  {
   "cell_type": "code",
   "execution_count": 42,
   "metadata": {
    "collapsed": false
   },
   "outputs": [
    {
     "data": {
      "text/plain": [
       "array([[56846,    18],\n",
       "       [   12,    86]])"
      ]
     },
     "execution_count": 42,
     "metadata": {},
     "output_type": "execute_result"
    }
   ],
   "source": [
    "confusion_matrix(test_label, y_senn_pred)"
   ]
  },
  {
   "cell_type": "code",
   "execution_count": null,
   "metadata": {
    "collapsed": true
   },
   "outputs": [],
   "source": []
  }
 ],
 "metadata": {
  "kernelspec": {
   "display_name": "Python 2",
   "language": "python",
   "name": "python2"
  },
  "language_info": {
   "codemirror_mode": {
    "name": "ipython",
    "version": 2
   },
   "file_extension": ".py",
   "mimetype": "text/x-python",
   "name": "python",
   "nbconvert_exporter": "python",
   "pygments_lexer": "ipython2",
   "version": "2.7.10"
  }
 },
 "nbformat": 4,
 "nbformat_minor": 1
}
